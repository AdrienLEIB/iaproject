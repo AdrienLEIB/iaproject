{
 "cells": [
  {
   "cell_type": "code",
   "execution_count": 53,
   "id": "monthly-campaign",
   "metadata": {},
   "outputs": [],
   "source": [
    "board = [\n",
    "    [0,0,0,1,0],\n",
    "    [0,0,1,0,0],\n",
    "    [0,1,0,0,0],\n",
    "    [1,0,0,0,0],\n",
    "    [0,0,0,0,0],\n",
    "]\n",
    "grilles = 5\n",
    "\n",
    "\n",
    "def check_the_line(state, posx, posy):\n",
    "    \"\"\"\n",
    "    \"\"\"\n",
    "    line = []\n",
    "    if posy + 3 < grilles:\n",
    "        for i in range(4):\n",
    "            line.append(f'state[{str(posx)}][{str(posy+i)}]')\n",
    "        return line\n",
    "\n",
    "    return\n",
    "\n",
    "\n",
    "def check_the_column(state, posx, posy):\n",
    "    \"\"\"\n",
    "    \"\"\"\n",
    "    value = state[posx][posy]\n",
    "    column = []\n",
    "    if posx + 3 < grilles:\n",
    "        for i in range(4):\n",
    "            column.append(f'state[{str(posx)}][{str(posy)}]')\n",
    "            #print(state[posx][posy])\n",
    "            posx+=1\n",
    "        return column\n",
    "\n",
    "    return\n",
    "\n",
    "def check_diago_bottom(state, posx, posy):\n",
    "    \"\"\"\n",
    "    \"\"\"\n",
    "    x = posx\n",
    "    y = posy\n",
    "    try:\n",
    "        if x +3 < grilles and y+3 < grilles:\n",
    "            diagoB =  f'[state[{str(x)}][{str(y)}], state[{str(x+1)}][{str(y+1)}], state[{str(x+2)}][{str(y+2)}], state[{str(x+3)}][{str(y+3)}]]'\n",
    "            return diagoB\n",
    "    except:\n",
    "        pass\n",
    "    \n",
    "    return \n",
    "\n",
    "def check_diago_top(state, posx, posy):\n",
    "    \"\"\"\n",
    "    \"\"\"\n",
    "    x = posx\n",
    "    y = posy\n",
    "    \n",
    "        \n",
    "    try:\n",
    "        if x -3 >= 0 and y+3 < grilles :\n",
    "            diagoT =  f'[state[{str(x)}][{str(y)}], state[{str(x-1)}][{str(y+1)}], state[{str(x-2)}][{str(y+2)}], state[{str(x-3)}][{str(y+3)}]]'\n",
    "            return diagoT\n",
    "    except:\n",
    "        pass\n",
    "    \n",
    "    return \n",
    "\n",
    "\n",
    "def create_win_possibility(state):\n",
    "    wins_state = []\n",
    "    for x in range(len(state)):\n",
    "        for y in range(len(state)):\n",
    "            line = check_the_line(state, x, y)\n",
    "            if line:\n",
    "                wins_state.append(line)\n",
    "    \n",
    "            column = check_the_column(state, x, y)\n",
    "            if column:\n",
    "                wins_state.append(column)\n",
    "            diago_bottom = check_diago_bottom(state, x, y)\n",
    "            if diago_bottom:\n",
    "                wins_state.append(diago_bottom)\n",
    "                \n",
    "            diago_top = check_diago_top(state, x, y)\n",
    "            if diago_top:\n",
    "                wins_state.append(diago_top)\n",
    "    #print(wins_state)\n",
    "    return wins_state\n",
    "            "
   ]
  },
  {
   "cell_type": "code",
   "execution_count": 54,
   "id": "absolute-mining",
   "metadata": {},
   "outputs": [
    {
     "data": {
      "text/plain": [
       "[['state[0][0]', 'state[0][1]', 'state[0][2]', 'state[0][3]'],\n",
       " ['state[0][1]', 'state[0][2]', 'state[0][3]', 'state[0][4]'],\n",
       " ['state[1][0]', 'state[1][1]', 'state[1][2]', 'state[1][3]'],\n",
       " ['state[1][1]', 'state[1][2]', 'state[1][3]', 'state[1][4]'],\n",
       " ['state[2][0]', 'state[2][1]', 'state[2][2]', 'state[2][3]'],\n",
       " ['state[2][1]', 'state[2][2]', 'state[2][3]', 'state[2][4]'],\n",
       " ['state[3][0]', 'state[3][1]', 'state[3][2]', 'state[3][3]'],\n",
       " ['state[3][1]', 'state[3][2]', 'state[3][3]', 'state[3][4]'],\n",
       " ['state[4][0]', 'state[4][1]', 'state[4][2]', 'state[4][3]'],\n",
       " ['state[4][1]', 'state[4][2]', 'state[4][3]', 'state[4][4]']]"
      ]
     },
     "execution_count": 54,
     "metadata": {},
     "output_type": "execute_result"
    }
   ],
   "source": [
    "create_win_possibility(board)"
   ]
  },
  {
   "cell_type": "code",
   "execution_count": null,
   "id": "collected-scheduling",
   "metadata": {},
   "outputs": [],
   "source": []
  },
  {
   "cell_type": "code",
   "execution_count": null,
   "id": "ideal-addition",
   "metadata": {},
   "outputs": [],
   "source": []
  },
  {
   "cell_type": "code",
   "execution_count": null,
   "id": "legislative-turning",
   "metadata": {},
   "outputs": [],
   "source": []
  }
 ],
 "metadata": {
  "kernelspec": {
   "display_name": "Python 3",
   "language": "python",
   "name": "python3"
  },
  "language_info": {
   "codemirror_mode": {
    "name": "ipython",
    "version": 3
   },
   "file_extension": ".py",
   "mimetype": "text/x-python",
   "name": "python",
   "nbconvert_exporter": "python",
   "pygments_lexer": "ipython3",
   "version": "3.9.1"
  }
 },
 "nbformat": 4,
 "nbformat_minor": 5
}
