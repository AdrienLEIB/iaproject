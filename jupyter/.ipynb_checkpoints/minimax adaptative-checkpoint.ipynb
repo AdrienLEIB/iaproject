{
 "cells": [
  {
   "cell_type": "code",
   "execution_count": null,
   "id": "three-writer",
   "metadata": {},
   "outputs": [],
   "source": [
    "\n",
    "board = [\n",
    "    [0, 0, 0],\n",
    "    [0, 0, 0],\n",
    "    [0, 0, 0],\n",
    "\n",
    "]\n",
    "\n",
    "def minimax(state, depth, player):\n",
    "    \"\"\"\n",
    "    AI function that choice the best move\n",
    "    :param state: current state of the board\n",
    "    :param depth: node index in the tree (0 <= depth <= 9),\n",
    "    but never nine in this case (see iaturn() function)\n",
    "    :param player: an human or a computer\n",
    "    :return: a list with [the best row, best col, best score]\n",
    "    \"\"\"\n",
    "    if player == COMP:\n",
    "        best = [-1, -1, -infinity]\n",
    "    else:\n",
    "        best = [-1, -1, +infinity]\n",
    "\n",
    "    if depth == 0 or game_over(state):\n",
    "        score = evaluate(state)\n",
    "        return [-1, -1, score]\n",
    "\n",
    "    for cell in empty_cells(state):\n",
    "        x, y = cell[0], cell[1]\n",
    "        state[x][y] = player\n",
    "        score = minimax(state, depth - 1, -player)\n",
    "        state[x][y] = 0\n",
    "        score[0], score[1] = x, y\n",
    "\n",
    "        if player == COMP:\n",
    "            if score[2] > best[2]:\n",
    "                best = score  # max value\n",
    "        else:\n",
    "            if score[2] < best[2]:\n",
    "                best = score  # min value\n",
    "\n",
    "    return best"
   ]
  }
 ],
 "metadata": {
  "kernelspec": {
   "display_name": "Python 3",
   "language": "python",
   "name": "python3"
  },
  "language_info": {
   "codemirror_mode": {
    "name": "ipython",
    "version": 3
   },
   "file_extension": ".py",
   "mimetype": "text/x-python",
   "name": "python",
   "nbconvert_exporter": "python",
   "pygments_lexer": "ipython3",
   "version": "3.9.1"
  }
 },
 "nbformat": 4,
 "nbformat_minor": 5
}
