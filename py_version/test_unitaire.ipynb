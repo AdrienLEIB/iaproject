{
 "cells": [
  {
   "cell_type": "code",
   "execution_count": 81,
   "id": "together-devices",
   "metadata": {},
   "outputs": [],
   "source": [
    "def wins(state, last_move, player):\n",
    "    grid_len = len(board) # 5\n",
    "    last_pos = grid_len - 1\n",
    "    row = last_move[0] # 3\n",
    "    col = last_move[1] # 3\n",
    "    for i in range(grid_len-3):\n",
    "    # check the line\n",
    "        line = [state[row][i], state[row][i+1], state[row][i+2], state[row][i+3]]\n",
    "        if [player, player, player, player] == line:\n",
    "            return True\n",
    "        # check the column\n",
    "        column = [state[i][col], state[i+1][col], state[i+2][col], state[i+3][col]]\n",
    "        if [player, player, player, player] == column:\n",
    "             return True"
   ]
  },
  {
   "cell_type": "code",
   "execution_count": 82,
   "id": "assumed-teach",
   "metadata": {},
   "outputs": [
    {
     "name": "stdout",
     "output_type": "stream",
     "text": [
      "None\n"
     ]
    }
   ],
   "source": [
    "print(wins(board , last_move, HUMAN))"
   ]
  },
  {
   "cell_type": "code",
   "execution_count": 116,
   "id": "guided-messenger",
   "metadata": {},
   "outputs": [],
   "source": [
    "board = [\n",
    "    [0, 0, 0, -1, 0], # X +1 \n",
    "    [0, 0, -1, 0, 0],\n",
    "    [0, -1, 0, 0, 0],\n",
    "    [-1, 0, 0, 0, 0],\n",
    "    [0, 0, 0, 0, 0],\n",
    "    # Y -1\n",
    "]\n",
    "\n",
    "last_move = [1,2]\n",
    "HUMAN = -1"
   ]
  },
  {
   "cell_type": "code",
   "execution_count": 117,
   "id": "varied-dominican",
   "metadata": {},
   "outputs": [],
   "source": [
    "def check_diago_right(state, posx, posy, player):\n",
    "    y = posy\n",
    "    x = posx\n",
    "    while(x > 0 and y < (len(state)-1)):\n",
    "        y += 1\n",
    "        x -= 1\n",
    "    \n",
    "    posdepart = [y, x]\n",
    "    while((y -3) > 0 or (x + 3) < (len(state)-1)):\n",
    "        line = [state[y][x], state[y-1][x+1], state[y-2][x+2], state[y-3][x+3]]\n",
    "        if [player, player, player, player] == line:\n",
    "            print(True)\n",
    "            return True\n",
    "        y -= 1\n",
    "        x += 1\n",
    "    \n",
    "    \n",
    "    "
   ]
  },
  {
   "cell_type": "code",
   "execution_count": 118,
   "id": "fatal-municipality",
   "metadata": {
    "scrolled": true
   },
   "outputs": [
    {
     "name": "stdout",
     "output_type": "stream",
     "text": [
      "True\n",
      "True\n"
     ]
    }
   ],
   "source": [
    "print(check_diago_right(board,last_move[0], last_move[1], HUMAN ))"
   ]
  },
  {
   "cell_type": "code",
   "execution_count": 119,
   "id": "virgin-arena",
   "metadata": {},
   "outputs": [],
   "source": [
    "board = [\n",
    "    [0, 0, 0, 0, 0], # X +1 \n",
    "    [-1, 0, 0, 0, 0],\n",
    "    [0, -1, 0, 0, 0],\n",
    "    [0, 0, -1, 0, 0],\n",
    "    [0, 0, 0, -1, 0],\n",
    "    # Y -1\n",
    "]\n",
    "\n",
    "last_move = [3,2]\n",
    "HUMAN = -1"
   ]
  },
  {
   "cell_type": "code",
   "execution_count": 120,
   "id": "technical-brave",
   "metadata": {},
   "outputs": [],
   "source": [
    "def check_diago_left(state, posx, posy, player):\n",
    "    y = posy\n",
    "    x = posx\n",
    "    while(x > 0 and 3 > 0):\n",
    "        y -= 1\n",
    "        x -= 1\n",
    "    \n",
    "    posdepart = [y, x]\n",
    "    x = 0\n",
    "    y = 1\n",
    "    while( (y + 3) < (len(state)-1) or (x + 3) < (len(state)-1)):\n",
    "        line = [state[y][x], state[y+1][x+1], state[y+2][x+2], state[y+3][x+3]]\n",
    "        if [player, player, player, player] == line:\n",
    "            return True\n",
    "        y += 1\n",
    "        x += 1    "
   ]
  },
  {
   "cell_type": "code",
   "execution_count": 121,
   "id": "peaceful-little",
   "metadata": {},
   "outputs": [
    {
     "name": "stdout",
     "output_type": "stream",
     "text": [
      "True\n"
     ]
    }
   ],
   "source": [
    "print(check_diago_left(board,last_move[0], last_move[1], HUMAN ))"
   ]
  },
  {
   "cell_type": "code",
   "execution_count": null,
   "id": "spanish-distribution",
   "metadata": {},
   "outputs": [],
   "source": []
  }
 ],
 "metadata": {
  "kernelspec": {
   "display_name": "Python 3",
   "language": "python",
   "name": "python3"
  },
  "language_info": {
   "codemirror_mode": {
    "name": "ipython",
    "version": 3
   },
   "file_extension": ".py",
   "mimetype": "text/x-python",
   "name": "python",
   "nbconvert_exporter": "python",
   "pygments_lexer": "ipython3",
   "version": "3.9.1"
  }
 },
 "nbformat": 4,
 "nbformat_minor": 5
}
